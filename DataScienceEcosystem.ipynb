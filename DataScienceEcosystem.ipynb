{
  "metadata": {
    "kernelspec": {
      "name": "python",
      "display_name": "Python (Pyodide)",
      "language": "python"
    },
    "language_info": {
      "codemirror_mode": {
        "name": "python",
        "version": 3
      },
      "file_extension": ".py",
      "mimetype": "text/x-python",
      "name": "python",
      "nbconvert_exporter": "python",
      "pygments_lexer": "ipython3",
      "version": "3.8"
    }
  },
  "nbformat_minor": 4,
  "nbformat": 4,
  "cells": [
    {
      "cell_type": "markdown",
      "source": "# Data Science tools And Ecosystem",
      "metadata": {}
    },
    {
      "cell_type": "markdown",
      "source": "in this notebook data science tools and ecosystem are sumaraised",
      "metadata": {}
    },
    {
      "cell_type": "markdown",
      "source": "some of the language are most common language used by data scientist are:\n1. python\n2. c++\n3. R\n4. sql\n5. java etc",
      "metadata": {}
    },
    {
      "cell_type": "markdown",
      "source": "some of the commonly libraries used by data scientist in to :\n1. Tensor flow\n2. Numpy\n3. Scipy\n4. Pandas\n5. karas\n6. pytouch etc",
      "metadata": {}
    },
    {
      "cell_type": "code",
      "source": "|Data Science Tools|\n|---|\n|SAS|\n|Apache Madoop|\n|Tensor Flow|",
      "metadata": {
        "trusted": true
      },
      "outputs": [],
      "execution_count": null
    },
    {
      "cell_type": "markdown",
      "source": "# below are a few example of evaluating arithmetic expression of python",
      "metadata": {}
    },
    {
      "cell_type": "code",
      "source": "#this is common arithmetic example to muptiple and then add\n(3*4)+5",
      "metadata": {
        "trusted": true
      },
      "outputs": [
        {
          "execution_count": 3,
          "output_type": "execute_result",
          "data": {
            "text/plain": "17"
          },
          "metadata": {}
        }
      ],
      "execution_count": 3
    },
    {
      "cell_type": "code",
      "source": "#this will convert 200 min to hrs by dividing by 60\n200/60",
      "metadata": {
        "trusted": true
      },
      "outputs": [
        {
          "execution_count": 5,
          "output_type": "execute_result",
          "data": {
            "text/plain": "3.3333333333333335"
          },
          "metadata": {}
        }
      ],
      "execution_count": 5
    },
    {
      "cell_type": "code",
      "source": "",
      "metadata": {
        "trusted": true
      },
      "outputs": [],
      "execution_count": null
    },
    {
      "cell_type": "markdown",
      "source": "# objectives\n1. lists popular language used by data scientist\n2. lists popular libraries by data scientist\n3. lists of well known data science tools\n4. how to provide comments",
      "metadata": {}
    },
    {
      "cell_type": "markdown",
      "source": "# anothor\nlakshita sharma",
      "metadata": {}
    }
  ]
}